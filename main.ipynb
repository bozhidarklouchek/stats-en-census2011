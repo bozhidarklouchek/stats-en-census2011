{
 "cells": [
  {
   "cell_type": "markdown",
   "metadata": {},
   "source": [
    "# Lab 4 - Hypothesis testing and statistical analysis"
   ]
  },
  {
   "cell_type": "markdown",
   "metadata": {},
   "source": [
    "## Loading data"
   ]
  },
  {
   "cell_type": "code",
   "execution_count": 2,
   "metadata": {},
   "outputs": [],
   "source": [
    "import pandas as pd\n",
    "import matplotlib.pyplot as plt\n",
    "from scipy import stats\n",
    "import numpy as np\n",
    "from math import sqrt\n",
    "\n",
    "df = pd.read_csv('census11sample.csv', index_col=0)\n",
    "df.head(10)"
   ]
  },
  {
   "cell_type": "markdown",
   "metadata": {},
   "source": [
    "## Dividing data"
   ]
  },
  {
   "cell_type": "code",
   "execution_count": 5,
   "metadata": {},
   "outputs": [
    {
     "name": "stdout",
     "output_type": "stream",
     "text": [
      "Number of rows is 1000.\n"
     ]
    }
   ],
   "source": [
    "numberOfEntries = len(df.index)\n",
    "print(\"Number of rows is \" + str(numberOfEntries) + \".\")"
   ]
  },
  {
   "cell_type": "markdown",
   "metadata": {},
   "source": [
    "Now I should divide by two to find out where exactly the midpoint is. We should cast the result to an integer, since splitting doesn't work with floating point values. Here it wouldn't have made a difference, but it's an important point to make."
   ]
  },
  {
   "cell_type": "code",
   "execution_count": 6,
   "metadata": {},
   "outputs": [
    {
     "name": "stdout",
     "output_type": "stream",
     "text": [
      "Midpoint is 500.\n"
     ]
    }
   ],
   "source": [
    "midPoint = int(numberOfEntries/2)\n",
    "print(\"Midpoint is \" + str(midPoint) + \".\")"
   ]
  },
  {
   "cell_type": "markdown",
   "metadata": {},
   "source": [
    "Having confirmed that the midpoint is 500 I can carry on with splitting the data."
   ]
  },
  {
   "cell_type": "markdown",
   "metadata": {},
   "source": [
    "## Splitting the data"
   ]
  },
  {
   "cell_type": "markdown",
   "metadata": {},
   "source": [
    "Splitting the data is simple, we can use the iloc method. It allows us to retrieve specific values given we know the index assigned to them, the method only works with integer values and that's why we made sure that the mid point of the dataset is an integer by casting earlier. In this case we would use the iloc method to get multiple values, so we can just get a range of indices."
   ]
  },
  {
   "cell_type": "code",
   "execution_count": 11,
   "metadata": {},
   "outputs": [],
   "source": [
    "sample_explore = df.iloc[:midPoint]\n",
    "sample_test = df.iloc[midPoint:]"
   ]
  },
  {
   "cell_type": "markdown",
   "metadata": {},
   "source": [
    "Now let's take a look at our dataset which we will use for data exploration."
   ]
  },
  {
   "cell_type": "code",
   "execution_count": 13,
   "metadata": {},
   "outputs": [
    {
     "data": {
      "text/html": [
       "<div>\n",
       "<style scoped>\n",
       "    .dataframe tbody tr th:only-of-type {\n",
       "        vertical-align: middle;\n",
       "    }\n",
       "\n",
       "    .dataframe tbody tr th {\n",
       "        vertical-align: top;\n",
       "    }\n",
       "\n",
       "    .dataframe thead th {\n",
       "        text-align: right;\n",
       "    }\n",
       "</style>\n",
       "<table border=\"1\" class=\"dataframe\">\n",
       "  <thead>\n",
       "    <tr style=\"text-align: right;\">\n",
       "      <th></th>\n",
       "      <th>North East</th>\n",
       "      <th>North West</th>\n",
       "      <th>Yorkshire and The Humber</th>\n",
       "      <th>East Midlands</th>\n",
       "      <th>West Midlands</th>\n",
       "      <th>East of England</th>\n",
       "      <th>London</th>\n",
       "      <th>South East</th>\n",
       "      <th>South West</th>\n",
       "    </tr>\n",
       "  </thead>\n",
       "  <tbody>\n",
       "    <tr>\n",
       "      <th>0</th>\n",
       "      <td>27</td>\n",
       "      <td>32</td>\n",
       "      <td>65</td>\n",
       "      <td>60</td>\n",
       "      <td>44</td>\n",
       "      <td>79</td>\n",
       "      <td>43</td>\n",
       "      <td>8</td>\n",
       "      <td>9</td>\n",
       "    </tr>\n",
       "    <tr>\n",
       "      <th>1</th>\n",
       "      <td>10</td>\n",
       "      <td>36</td>\n",
       "      <td>40</td>\n",
       "      <td>19</td>\n",
       "      <td>52</td>\n",
       "      <td>46</td>\n",
       "      <td>58</td>\n",
       "      <td>87</td>\n",
       "      <td>40</td>\n",
       "    </tr>\n",
       "    <tr>\n",
       "      <th>2</th>\n",
       "      <td>82</td>\n",
       "      <td>53</td>\n",
       "      <td>60</td>\n",
       "      <td>34</td>\n",
       "      <td>2</td>\n",
       "      <td>29</td>\n",
       "      <td>18</td>\n",
       "      <td>46</td>\n",
       "      <td>57</td>\n",
       "    </tr>\n",
       "    <tr>\n",
       "      <th>3</th>\n",
       "      <td>33</td>\n",
       "      <td>63</td>\n",
       "      <td>25</td>\n",
       "      <td>60</td>\n",
       "      <td>9</td>\n",
       "      <td>26</td>\n",
       "      <td>30</td>\n",
       "      <td>52</td>\n",
       "      <td>74</td>\n",
       "    </tr>\n",
       "    <tr>\n",
       "      <th>4</th>\n",
       "      <td>55</td>\n",
       "      <td>98</td>\n",
       "      <td>4</td>\n",
       "      <td>47</td>\n",
       "      <td>58</td>\n",
       "      <td>37</td>\n",
       "      <td>18</td>\n",
       "      <td>67</td>\n",
       "      <td>19</td>\n",
       "    </tr>\n",
       "    <tr>\n",
       "      <th>...</th>\n",
       "      <td>...</td>\n",
       "      <td>...</td>\n",
       "      <td>...</td>\n",
       "      <td>...</td>\n",
       "      <td>...</td>\n",
       "      <td>...</td>\n",
       "      <td>...</td>\n",
       "      <td>...</td>\n",
       "      <td>...</td>\n",
       "    </tr>\n",
       "    <tr>\n",
       "      <th>495</th>\n",
       "      <td>27</td>\n",
       "      <td>37</td>\n",
       "      <td>30</td>\n",
       "      <td>65</td>\n",
       "      <td>21</td>\n",
       "      <td>20</td>\n",
       "      <td>43</td>\n",
       "      <td>62</td>\n",
       "      <td>48</td>\n",
       "    </tr>\n",
       "    <tr>\n",
       "      <th>496</th>\n",
       "      <td>63</td>\n",
       "      <td>39</td>\n",
       "      <td>76</td>\n",
       "      <td>57</td>\n",
       "      <td>47</td>\n",
       "      <td>77</td>\n",
       "      <td>56</td>\n",
       "      <td>64</td>\n",
       "      <td>68</td>\n",
       "    </tr>\n",
       "    <tr>\n",
       "      <th>497</th>\n",
       "      <td>62</td>\n",
       "      <td>26</td>\n",
       "      <td>21</td>\n",
       "      <td>69</td>\n",
       "      <td>14</td>\n",
       "      <td>53</td>\n",
       "      <td>3</td>\n",
       "      <td>65</td>\n",
       "      <td>19</td>\n",
       "    </tr>\n",
       "    <tr>\n",
       "      <th>498</th>\n",
       "      <td>15</td>\n",
       "      <td>68</td>\n",
       "      <td>4</td>\n",
       "      <td>63</td>\n",
       "      <td>44</td>\n",
       "      <td>7</td>\n",
       "      <td>23</td>\n",
       "      <td>36</td>\n",
       "      <td>8</td>\n",
       "    </tr>\n",
       "    <tr>\n",
       "      <th>499</th>\n",
       "      <td>14</td>\n",
       "      <td>44</td>\n",
       "      <td>17</td>\n",
       "      <td>38</td>\n",
       "      <td>14</td>\n",
       "      <td>40</td>\n",
       "      <td>20</td>\n",
       "      <td>10</td>\n",
       "      <td>73</td>\n",
       "    </tr>\n",
       "  </tbody>\n",
       "</table>\n",
       "<p>500 rows × 9 columns</p>\n",
       "</div>"
      ],
      "text/plain": [
       "     North East  North West  Yorkshire and The Humber  East Midlands  \\\n",
       "0            27          32                        65             60   \n",
       "1            10          36                        40             19   \n",
       "2            82          53                        60             34   \n",
       "3            33          63                        25             60   \n",
       "4            55          98                         4             47   \n",
       "..          ...         ...                       ...            ...   \n",
       "495          27          37                        30             65   \n",
       "496          63          39                        76             57   \n",
       "497          62          26                        21             69   \n",
       "498          15          68                         4             63   \n",
       "499          14          44                        17             38   \n",
       "\n",
       "     West Midlands  East of England  London  South East  South West  \n",
       "0               44               79      43           8           9  \n",
       "1               52               46      58          87          40  \n",
       "2                2               29      18          46          57  \n",
       "3                9               26      30          52          74  \n",
       "4               58               37      18          67          19  \n",
       "..             ...              ...     ...         ...         ...  \n",
       "495             21               20      43          62          48  \n",
       "496             47               77      56          64          68  \n",
       "497             14               53       3          65          19  \n",
       "498             44                7      23          36           8  \n",
       "499             14               40      20          10          73  \n",
       "\n",
       "[500 rows x 9 columns]"
      ]
     },
     "execution_count": 13,
     "metadata": {},
     "output_type": "execute_result"
    }
   ],
   "source": [
    "sample_explore"
   ]
  },
  {
   "cell_type": "markdown",
   "metadata": {},
   "source": [
    "As we can see, the set only has 500 rows - which is exactly what we wanted. This means we have split the data successfully."
   ]
  },
  {
   "cell_type": "markdown",
   "metadata": {},
   "source": [
    "## Means, modes and medians of each region"
   ]
  },
  {
   "cell_type": "markdown",
   "metadata": {},
   "source": [
    "Here I calculate all means, modes and medians for all regions and save them in corresponding varibles in case I need them later."
   ]
  },
  {
   "cell_type": "code",
   "execution_count": 14,
   "metadata": {
    "scrolled": true
   },
   "outputs": [],
   "source": [
    "# Means of each region.\n",
    "meanNE = sample_explore[\"North East\"].mean(axis = 0)\n",
    "meanNW = sample_explore[\"North West\"].mean(axis = 0)\n",
    "meanYH = sample_explore[\"Yorkshire and The Humber\"].mean(axis = 0)\n",
    "meanEM = sample_explore[\"East Midlands\"].mean(axis = 0)\n",
    "meanWM = sample_explore[\"West Midlands\"].mean(axis = 0)\n",
    "meanEE = sample_explore[\"East of England\"].mean(axis = 0)\n",
    "meanL = sample_explore[\"London\"].mean(axis = 0)\n",
    "meanSE = sample_explore[\"South East\"].mean(axis = 0)\n",
    "meanSW = sample_explore[\"South West\"].mean(axis = 0)\n",
    "\n",
    "# Modes of each region.\n",
    "modeNE = sample_explore[\"North East\"].mode()\n",
    "modeNW = sample_explore[\"North West\"].mode()\n",
    "modeYH = sample_explore[\"Yorkshire and The Humber\"].mode()\n",
    "modeEM = sample_explore[\"East Midlands\"].mode()\n",
    "modeWM = sample_explore[\"West Midlands\"].mode()\n",
    "modeEE = sample_explore[\"East of England\"].mode()\n",
    "modeL = sample_explore[\"London\"].mode()\n",
    "modeSE = sample_explore[\"South East\"].mode()\n",
    "modeSW = sample_explore[\"South West\"].mode()\n",
    "\n",
    "# Medians of each region.\n",
    "medianNE = sample_explore[\"North East\"].median()\n",
    "medianNW = sample_explore[\"North West\"].median()\n",
    "medianYH = sample_explore[\"Yorkshire and The Humber\"].median()\n",
    "medianEM = sample_explore[\"East Midlands\"].median()\n",
    "medianWM = sample_explore[\"West Midlands\"].median()\n",
    "medianEE = sample_explore[\"East of England\"].median()\n",
    "medianL = sample_explore[\"London\"].median()\n",
    "medianSE = sample_explore[\"South East\"].median()\n",
    "medianSW = sample_explore[\"South West\"].median()"
   ]
  },
  {
   "cell_type": "markdown",
   "metadata": {},
   "source": [
    "## Means of each region"
   ]
  },
  {
   "cell_type": "markdown",
   "metadata": {},
   "source": [
    "Let's take a look at all the means."
   ]
  },
  {
   "cell_type": "code",
   "execution_count": 15,
   "metadata": {
    "scrolled": true
   },
   "outputs": [
    {
     "name": "stdout",
     "output_type": "stream",
     "text": [
      "\n",
      "The mean age in the North East is 41.12.\n",
      "The mean age in the North West is 39.53.\n",
      "The mean age in the Yorkshire and The Humber is 38.492.\n",
      "The mean age in the East Midlands is 38.76.\n",
      "The mean age in the West Midlands is 40.582.\n",
      "The mean age in the East of England is 42.104.\n",
      "The mean age in the London is 35.074.\n",
      "The mean age in the South East is 41.198.\n",
      "The mean age in the South West is 43.428.\n"
     ]
    }
   ],
   "source": [
    "print(\"\")\n",
    "print(\"The mean age in the North East is \" + str(meanNE) + \".\")\n",
    "print(\"The mean age in the North West is \" + str(meanNW) + \".\")\n",
    "print(\"The mean age in the Yorkshire and The Humber is \" + str(meanYH) + \".\")\n",
    "print(\"The mean age in the East Midlands is \" + str(meanEM) + \".\")\n",
    "print(\"The mean age in the West Midlands is \" + str(meanWM) + \".\")\n",
    "print(\"The mean age in the East of England is \" + str(meanEE) + \".\")\n",
    "print(\"The mean age in the London is \" + str(meanL) + \".\")\n",
    "print(\"The mean age in the South East is \" + str(meanSE) + \".\")\n",
    "print(\"The mean age in the South West is \" + str(meanSW) + \".\")"
   ]
  },
  {
   "cell_type": "markdown",
   "metadata": {},
   "source": [
    "Even though a floating point value (i.e. 41.12) wouldn't be considered a standard age because any human would just say an integer (i.e. 41) - I thought leaving the decimal places like they are and not approximating any values, because then I would lose valuable information, for example I wouldn't be able to tell that the average age in the North East is a bit lower than the one in the South East - because they'd both be 41 otherwise."
   ]
  },
  {
   "cell_type": "markdown",
   "metadata": {},
   "source": [
    "## Modes of each region"
   ]
  },
  {
   "cell_type": "markdown",
   "metadata": {},
   "source": [
    "Let's take a look at all the modes."
   ]
  },
  {
   "cell_type": "code",
   "execution_count": 16,
   "metadata": {},
   "outputs": [
    {
     "name": "stdout",
     "output_type": "stream",
     "text": [
      "\n",
      "There was/were 1 mode/modes for the North East Region - 45.\n",
      "There was/were 4 mode/modes for the North West Region - 0, 18, 46, 47.\n",
      "There was/were 2 mode/modes for the Yorkshite and The Humber Region - 30, 47.\n",
      "There was/were 2 mode/modes for the East Midlands Region - 17, 20.\n",
      "There was/were 1 mode/modes for the West Midlands Region - 18.\n",
      "There was/were 1 mode/modes for the East of England  Region - 52.\n",
      "There was/were 4 mode/modes for the London Region - 25, 30, 34, 38.\n",
      "There was/were 1 mode/modes for the South East Region - 64.\n",
      "There was/were 1 mode/modes for the South West Region - 47.\n"
     ]
    }
   ],
   "source": [
    "print(\"\")\n",
    "currentLenght = 0\n",
    "\n",
    "# North East\n",
    "currentLength = len(modeNE)\n",
    "print(\"There was/were \" + str(currentLength) + \" mode/modes for the North East Region - \", end = '')\n",
    "if(currentLength == 1):\n",
    "        print(str(modeNE[0]) + \".\")\n",
    "else:\n",
    "    for i in range(currentLength):\n",
    "        print(str(modeNE[i]), end = '')\n",
    "        if(i + 1 != currentLength):\n",
    "            print(\", \", end='')\n",
    "        else:\n",
    "            print(\".\")\n",
    "\n",
    "# North West \n",
    "currentLength = len(modeNW)\n",
    "print(\"There was/were \" + str(currentLength) + \" mode/modes for the North West Region - \", end = '')\n",
    "if(currentLength == 1):\n",
    "        print(str(modeNW[0]) + \".\")\n",
    "else:\n",
    "    for i in range(currentLength):\n",
    "        print(str(modeNW[i]), end = '')\n",
    "        if(i + 1 != currentLength):\n",
    "            print(\", \", end='')\n",
    "        else:\n",
    "            print(\".\")\n",
    "\n",
    "# Yorkshite and The Humber\n",
    "currentLength = len(modeYH)\n",
    "print(\"There was/were \" + str(currentLength) + \" mode/modes for the Yorkshite and The Humber Region - \", end = '')\n",
    "if(currentLength == 1):\n",
    "        print(str(modeYH[0]) + \".\")\n",
    "else:\n",
    "    for i in range(currentLength):\n",
    "        print(str(modeYH[i]), end = '')\n",
    "        if(i + 1 != currentLength):\n",
    "            print(\", \", end='')\n",
    "        else:\n",
    "            print(\".\")\n",
    "\n",
    "# East Midlands\n",
    "currentLength = len(modeEM)\n",
    "print(\"There was/were \" + str(currentLength) + \" mode/modes for the East Midlands Region - \", end = '')\n",
    "if(currentLength == 1):\n",
    "        print(str(modeEM[0]) + \".\")\n",
    "else:\n",
    "    for i in range(currentLength):\n",
    "        print(str(modeEM[i]), end = '')\n",
    "        if(i + 1 != currentLength):\n",
    "            print(\", \", end='')\n",
    "        else:\n",
    "            print(\".\")\n",
    "\n",
    "# West Midlands\n",
    "currentLength = len(modeWM)\n",
    "print(\"There was/were \" + str(currentLength) + \" mode/modes for the West Midlands Region - \", end = '')\n",
    "if(currentLength == 1):\n",
    "        print(str(modeWM[0]) + \".\")\n",
    "else:\n",
    "    for i in range(currentLength):\n",
    "        print(str(modeWM[i]), end = '')\n",
    "        if(i + 1 != currentLength):\n",
    "            print(\", \", end='')\n",
    "        else:\n",
    "            print(\".\")\n",
    "\n",
    "# East of England \n",
    "currentLength = len(modeEE)\n",
    "print(\"There was/were \" + str(currentLength) + \" mode/modes for the East of England  Region - \", end = '')\n",
    "if(currentLength == 1):\n",
    "        print(str(modeEE[0]) + \".\")\n",
    "else:\n",
    "    for i in range(currentLength):\n",
    "        print(str(modeEE[i]), end = '')\n",
    "        if(i + 1 != currentLength):\n",
    "            print(\", \", end='')\n",
    "        else:\n",
    "            print(\".\")\n",
    "\n",
    "# London\n",
    "currentLength = len(modeL)\n",
    "print(\"There was/were \" + str(currentLength) + \" mode/modes for the London Region - \", end = '')\n",
    "if(currentLength == 1):\n",
    "        print(str(modeL[0]) + \".\")\n",
    "else:\n",
    "    for i in range(currentLength):\n",
    "        print(str(modeL[i]), end = '')\n",
    "        if(i + 1 != currentLength):\n",
    "            print(\", \", end='')\n",
    "        else:\n",
    "            print(\".\")\n",
    "\n",
    "# South East\n",
    "currentLength = len(modeSE)\n",
    "print(\"There was/were \" + str(currentLength) + \" mode/modes for the South East Region - \", end = '')\n",
    "if(currentLength == 1):\n",
    "        print(str(modeSE[0]) + \".\")\n",
    "else:\n",
    "    for i in range(currentLength):\n",
    "        print(str(modeSE[i]), end = '')\n",
    "        if(i + 1 != currentLength):\n",
    "            print(\", \", end='')\n",
    "        else:\n",
    "            print(\".\")\n",
    "\n",
    "# South West  \n",
    "currentLength = len(modeSW)\n",
    "print(\"There was/were \" + str(currentLength) + \" mode/modes for the South West Region - \", end = '')\n",
    "if(currentLength == 1):\n",
    "        print(str(modeSW[0]) + \".\")\n",
    "else:\n",
    "    for i in range(currentLength):\n",
    "        print(str(modeSW[i]), end = '')\n",
    "        if(i + 1 != currentLength):\n",
    "            print(\", \", end='')\n",
    "        else:\n",
    "            print(\".\")"
   ]
  },
  {
   "cell_type": "markdown",
   "metadata": {},
   "source": [
    "I wanted to display each mode, not just the first one, since the mode() method returns a list of all modes from a set, so I used some for loops to tailor the output accordingly."
   ]
  },
  {
   "cell_type": "markdown",
   "metadata": {},
   "source": [
    "## Medians of each region"
   ]
  },
  {
   "cell_type": "markdown",
   "metadata": {},
   "source": [
    "Let's take a look at all the medians."
   ]
  },
  {
   "cell_type": "code",
   "execution_count": 17,
   "metadata": {},
   "outputs": [
    {
     "name": "stdout",
     "output_type": "stream",
     "text": [
      "\n",
      "The median age in the North East is 42.0.\n",
      "The median age in the North West is 40.0.\n",
      "The median age in the Yorkshire and The Humber is 37.0.\n",
      "The median age in the East Midlands is 37.0.\n",
      "The median age in the West Midlands is 42.0.\n",
      "The median age in the East of England is 41.0.\n",
      "The median age in the London is 33.5.\n",
      "The median age in the South East is 42.0.\n",
      "The median age in the South West is 44.0.\n"
     ]
    }
   ],
   "source": [
    "print(\"\")\n",
    "print(\"The median age in the North East is \" + str(medianNE) + \".\")\n",
    "print(\"The median age in the North West is \" + str(medianNW) + \".\")\n",
    "print(\"The median age in the Yorkshire and The Humber is \" + str(medianYH) + \".\")\n",
    "print(\"The median age in the East Midlands is \" + str(medianEM) + \".\")\n",
    "print(\"The median age in the West Midlands is \" + str(medianWM) + \".\")\n",
    "print(\"The median age in the East of England is \" + str(medianEE) + \".\")\n",
    "print(\"The median age in the London is \" + str(medianL) + \".\")\n",
    "print(\"The median age in the South East is \" + str(medianSE) + \".\")\n",
    "print(\"The median age in the South West is \" + str(medianSW) + \".\")"
   ]
  },
  {
   "cell_type": "markdown",
   "metadata": {},
   "source": [
    "Some of them end in '.0', because the median() method returns values of a floating point type. I could convert to integer (because, again, a value with a floating point wouldn't be considered a standrd age by humans), but in some cases the value ends in '.5' and I would lose that information if I were to cast to integer.\n",
    "\n",
    "From all of these we notice that we get the youngest ages are in London, since the means and medians are lowest there. This make me wonder if the highest amount of young people is in London. Let's test this by setting up a bar graph! For my definiton of a young person I am referring to young adults - so I am looking for people in the age range of 20-30.\n",
    "\n",
    "I notice as well that as regard to old people I can't guess the single region with the most old people, so I am also interested in that. For my definiton of an old person I am referring to elderly people - so I am looking for people in the age range of 60-100."
   ]
  },
  {
   "cell_type": "markdown",
   "metadata": {},
   "source": [
    "## Young adults and elderly people in England"
   ]
  },
  {
   "cell_type": "markdown",
   "metadata": {},
   "source": [
    "Now we need to count all entries per region with people whose age is between 18 and 30 and people whose age is between 60 and 100."
   ]
  },
  {
   "cell_type": "code",
   "execution_count": 18,
   "metadata": {},
   "outputs": [],
   "source": [
    "regions = list(sample_explore.columns)\n",
    "\n",
    "agesY = [0]*9\n",
    "counter = 0\n",
    "i = 0\n",
    "currYoungPplCounter = 0\n",
    "\n",
    "for region in regions:\n",
    "    currRegionAges = sample_explore[region].tolist()\n",
    "    for age in currRegionAges:\n",
    "        if age >= 20 and age <=30:\n",
    "            currYoungPplCounter+=1\n",
    "    agesY[i] = currYoungPplCounter\n",
    "    currYoungPplCounter = 0\n",
    "    i+=1   \n",
    "    \n",
    "agesO = [0]*9\n",
    "counter = 0\n",
    "i = 0\n",
    "currOldPplCounter = 0\n",
    "\n",
    "for region in regions:\n",
    "    currRegionAges = sample_explore[region].tolist()\n",
    "    for age in currRegionAges:\n",
    "        if age >= 60 and age <=100:\n",
    "            currOldPplCounter+=1\n",
    "    agesO[i] = currOldPplCounter\n",
    "    currOldPplCounter = 0\n",
    "    i+=1"
   ]
  },
  {
   "cell_type": "markdown",
   "metadata": {},
   "source": [
    "Now that we have both the number of young adults and elderly people in each region, we can easily make a new data frame, which we can later use to make a bar plot."
   ]
  },
  {
   "cell_type": "code",
   "execution_count": 19,
   "metadata": {},
   "outputs": [
    {
     "data": {
      "text/html": [
       "<div>\n",
       "<style scoped>\n",
       "    .dataframe tbody tr th:only-of-type {\n",
       "        vertical-align: middle;\n",
       "    }\n",
       "\n",
       "    .dataframe tbody tr th {\n",
       "        vertical-align: top;\n",
       "    }\n",
       "\n",
       "    .dataframe thead th {\n",
       "        text-align: right;\n",
       "    }\n",
       "</style>\n",
       "<table border=\"1\" class=\"dataframe\">\n",
       "  <thead>\n",
       "    <tr style=\"text-align: right;\">\n",
       "      <th></th>\n",
       "      <th>Regions</th>\n",
       "      <th>Young Adults (20-30)</th>\n",
       "      <th>Elderly People (60-100)</th>\n",
       "    </tr>\n",
       "  </thead>\n",
       "  <tbody>\n",
       "    <tr>\n",
       "      <th>0</th>\n",
       "      <td>North East</td>\n",
       "      <td>78</td>\n",
       "      <td>122</td>\n",
       "    </tr>\n",
       "    <tr>\n",
       "      <th>1</th>\n",
       "      <td>North West</td>\n",
       "      <td>58</td>\n",
       "      <td>112</td>\n",
       "    </tr>\n",
       "    <tr>\n",
       "      <th>2</th>\n",
       "      <td>Yorkshire &amp; Humber</td>\n",
       "      <td>90</td>\n",
       "      <td>100</td>\n",
       "    </tr>\n",
       "    <tr>\n",
       "      <th>3</th>\n",
       "      <td>East Midlands</td>\n",
       "      <td>74</td>\n",
       "      <td>120</td>\n",
       "    </tr>\n",
       "    <tr>\n",
       "      <th>4</th>\n",
       "      <td>West Midlands</td>\n",
       "      <td>62</td>\n",
       "      <td>118</td>\n",
       "    </tr>\n",
       "    <tr>\n",
       "      <th>5</th>\n",
       "      <td>East of England</td>\n",
       "      <td>63</td>\n",
       "      <td>138</td>\n",
       "    </tr>\n",
       "    <tr>\n",
       "      <th>6</th>\n",
       "      <td>London</td>\n",
       "      <td>90</td>\n",
       "      <td>80</td>\n",
       "    </tr>\n",
       "    <tr>\n",
       "      <th>7</th>\n",
       "      <td>South East</td>\n",
       "      <td>74</td>\n",
       "      <td>127</td>\n",
       "    </tr>\n",
       "    <tr>\n",
       "      <th>8</th>\n",
       "      <td>South West</td>\n",
       "      <td>67</td>\n",
       "      <td>132</td>\n",
       "    </tr>\n",
       "  </tbody>\n",
       "</table>\n",
       "</div>"
      ],
      "text/plain": [
       "              Regions  Young Adults (20-30)  Elderly People (60-100)\n",
       "0          North East                    78                      122\n",
       "1          North West                    58                      112\n",
       "2  Yorkshire & Humber                    90                      100\n",
       "3       East Midlands                    74                      120\n",
       "4       West Midlands                    62                      118\n",
       "5     East of England                    63                      138\n",
       "6              London                    90                       80\n",
       "7          South East                    74                      127\n",
       "8          South West                    67                      132"
      ]
     },
     "execution_count": 19,
     "metadata": {},
     "output_type": "execute_result"
    }
   ],
   "source": [
    "regions = ['North East', 'North West', 'Yorkshire & Humber', 'East Midlands', 'West Midlands', 'East of England', 'London', 'South East', 'South West']\n",
    "people = pd.DataFrame({\n",
    "                        'Regions' : regions,\n",
    "                        'Young Adults (20-30)' : agesY,\n",
    "                        'Elderly People (60-100)' : agesO\n",
    "                        })\n",
    "people"
   ]
  },
  {
   "cell_type": "markdown",
   "metadata": {},
   "source": [
    "We better visualise the differences in the values in the two columns by creating a bar plot. I chose a bar plot over any other graph, as it best visualises the difference btween the number of young people in each region and old people in each region. We also get to see a comparison between young and old people."
   ]
  },
  {
   "cell_type": "code",
   "execution_count": 20,
   "metadata": {
    "scrolled": false
   },
   "outputs": [
    {
     "data": {
      "text/plain": [
       "Text(0, 0.5, 'Number of People')"
      ]
     },
     "execution_count": 20,
     "metadata": {},
     "output_type": "execute_result"
    },
    {
     "data": {
      "image/png": "[encoded data removed]",
      "text/plain": [
       "<Figure size 2160x1080 with 1 Axes>"
      ]
     },
     "metadata": {
      "needs_background": "light"
     },
     "output_type": "display_data"
    }
   ],
   "source": [
    "barPlot = people.plot.bar(x = 'Regions', y = ['Young Adults (20-30)', 'Elderly People (60-100)'], figsize = (30,15), fontsize = 20, rot = 0)\n",
    "barPlot.legend(loc=2, prop={'size': 20})\n",
    "plt.xlabel(\"\")\n",
    "plt.ylabel(\"Number of People\", fontsize = 25)"
   ]
  },
  {
   "cell_type": "markdown",
   "metadata": {},
   "source": [
    "After inspection, we can determine that the region with most elderly people is East of England and, ironically, London being the one next to it - is the one with most young adults, as well as Yorkshire and the Humber, even though London still is the only one with more young adults than elderly people. London also exhibits the least amount of elderly people, while the least amount of young adults is in the North West.\n",
    "\n",
    "So from this we can see that there may be a slight difference in age distribution between the North and South parts of England, even though the amount of young adults in Londond and the Yorkshire and The Humber area is the same, there are much more elderly people in the latter, so naturally that would suggest a higher average age for the population - let's investigate further."
   ]
  },
  {
   "cell_type": "markdown",
   "metadata": {},
   "source": [
    "## London and Yorkshire and the Humbler's age groups"
   ]
  },
  {
   "cell_type": "markdown",
   "metadata": {},
   "source": [
    "London is the only region where the young adults outnumber the elderly population - that does make London's age distribution very interesting. Yorkshire and the Humber also poses as an interesting place since it has the same amount of young adults as London, even though the elderly population does outnumber them. Let's take a look into their other three age groups - children, teenagers and adults.\n",
    "\n",
    "For my definition of children, teenagers and adults, I consider them to be people between 0-12, 13-17 and 31-59 years old respectively. So now we can enrich our 'people' dataframe with all other age groups."
   ]
  },
  {
   "cell_type": "code",
   "execution_count": 21,
   "metadata": {},
   "outputs": [],
   "source": [
    "regions = list(sample_explore.columns)\n",
    "\n",
    "agesC = [0]*9\n",
    "counter = 0\n",
    "i = 0\n",
    "currChildrenCounter = 0\n",
    "\n",
    "for region in regions:\n",
    "    currRegionAges = sample_explore[region].tolist()\n",
    "    for age in currRegionAges:\n",
    "        if age >= 0 and age <=11:\n",
    "            currChildrenCounter+=1\n",
    "    agesC[i] = currChildrenCounter\n",
    "    currChildrenCounter = 0\n",
    "    i+=1   \n",
    "    \n",
    "agesT = [0]*9\n",
    "counter = 0\n",
    "i = 0\n",
    "currTeenagersCounter = 0\n",
    "\n",
    "for region in regions:\n",
    "    currRegionAges = sample_explore[region].tolist()\n",
    "    for age in currRegionAges:\n",
    "        if age >= 12 and age <=19:\n",
    "            currTeenagersCounter+=1\n",
    "    agesT[i] = currTeenagersCounter\n",
    "    currTeenagersCounter = 0\n",
    "    i+=1\n",
    "    \n",
    "agesA = [0]*9\n",
    "counter = 0\n",
    "i = 0\n",
    "currAdultsCounter = 0\n",
    "\n",
    "for region in regions:\n",
    "    currRegionAges = sample_explore[region].tolist()\n",
    "    for age in currRegionAges:\n",
    "        if age >= 31 and age <=59:\n",
    "            currAdultsCounter+=1\n",
    "    agesA[i] = currAdultsCounter\n",
    "    currAdultsCounter = 0\n",
    "    i+=1"
   ]
  },
  {
   "cell_type": "markdown",
   "metadata": {},
   "source": [
    "Now let's re-create our data frame so all age groups are ordered appropriately."
   ]
  },
  {
   "cell_type": "code",
   "execution_count": 22,
   "metadata": {},
   "outputs": [
    {
     "data": {
      "text/html": [
       "<div>\n",
       "<style scoped>\n",
       "    .dataframe tbody tr th:only-of-type {\n",
       "        vertical-align: middle;\n",
       "    }\n",
       "\n",
       "    .dataframe tbody tr th {\n",
       "        vertical-align: top;\n",
       "    }\n",
       "\n",
       "    .dataframe thead th {\n",
       "        text-align: right;\n",
       "    }\n",
       "</style>\n",
       "<table border=\"1\" class=\"dataframe\">\n",
       "  <thead>\n",
       "    <tr style=\"text-align: right;\">\n",
       "      <th></th>\n",
       "      <th>Regions</th>\n",
       "      <th>Children (0-11)</th>\n",
       "      <th>Teenagers (12-19)</th>\n",
       "      <th>Young Adults (20-30)</th>\n",
       "      <th>Adults (31-59)</th>\n",
       "      <th>Elderly People (60-100)</th>\n",
       "    </tr>\n",
       "  </thead>\n",
       "  <tbody>\n",
       "    <tr>\n",
       "      <th>0</th>\n",
       "      <td>North East</td>\n",
       "      <td>57</td>\n",
       "      <td>47</td>\n",
       "      <td>78</td>\n",
       "      <td>196</td>\n",
       "      <td>122</td>\n",
       "    </tr>\n",
       "    <tr>\n",
       "      <th>1</th>\n",
       "      <td>North West</td>\n",
       "      <td>69</td>\n",
       "      <td>64</td>\n",
       "      <td>58</td>\n",
       "      <td>197</td>\n",
       "      <td>112</td>\n",
       "    </tr>\n",
       "    <tr>\n",
       "      <th>2</th>\n",
       "      <td>Yorkshire &amp; Humber</td>\n",
       "      <td>58</td>\n",
       "      <td>60</td>\n",
       "      <td>90</td>\n",
       "      <td>192</td>\n",
       "      <td>100</td>\n",
       "    </tr>\n",
       "    <tr>\n",
       "      <th>3</th>\n",
       "      <td>East Midlands</td>\n",
       "      <td>72</td>\n",
       "      <td>63</td>\n",
       "      <td>74</td>\n",
       "      <td>171</td>\n",
       "      <td>120</td>\n",
       "    </tr>\n",
       "    <tr>\n",
       "      <th>4</th>\n",
       "      <td>West Midlands</td>\n",
       "      <td>65</td>\n",
       "      <td>57</td>\n",
       "      <td>62</td>\n",
       "      <td>198</td>\n",
       "      <td>118</td>\n",
       "    </tr>\n",
       "    <tr>\n",
       "      <th>5</th>\n",
       "      <td>East of England</td>\n",
       "      <td>63</td>\n",
       "      <td>46</td>\n",
       "      <td>63</td>\n",
       "      <td>190</td>\n",
       "      <td>138</td>\n",
       "    </tr>\n",
       "    <tr>\n",
       "      <th>6</th>\n",
       "      <td>London</td>\n",
       "      <td>88</td>\n",
       "      <td>53</td>\n",
       "      <td>90</td>\n",
       "      <td>189</td>\n",
       "      <td>80</td>\n",
       "    </tr>\n",
       "    <tr>\n",
       "      <th>7</th>\n",
       "      <td>South East</td>\n",
       "      <td>71</td>\n",
       "      <td>33</td>\n",
       "      <td>74</td>\n",
       "      <td>195</td>\n",
       "      <td>127</td>\n",
       "    </tr>\n",
       "    <tr>\n",
       "      <th>8</th>\n",
       "      <td>South West</td>\n",
       "      <td>55</td>\n",
       "      <td>46</td>\n",
       "      <td>67</td>\n",
       "      <td>200</td>\n",
       "      <td>132</td>\n",
       "    </tr>\n",
       "  </tbody>\n",
       "</table>\n",
       "</div>"
      ],
      "text/plain": [
       "              Regions  Children (0-11)  Teenagers (12-19)  \\\n",
       "0          North East               57                 47   \n",
       "1          North West               69                 64   \n",
       "2  Yorkshire & Humber               58                 60   \n",
       "3       East Midlands               72                 63   \n",
       "4       West Midlands               65                 57   \n",
       "5     East of England               63                 46   \n",
       "6              London               88                 53   \n",
       "7          South East               71                 33   \n",
       "8          South West               55                 46   \n",
       "\n",
       "   Young Adults (20-30)  Adults (31-59)  Elderly People (60-100)  \n",
       "0                    78             196                      122  \n",
       "1                    58             197                      112  \n",
       "2                    90             192                      100  \n",
       "3                    74             171                      120  \n",
       "4                    62             198                      118  \n",
       "5                    63             190                      138  \n",
       "6                    90             189                       80  \n",
       "7                    74             195                      127  \n",
       "8                    67             200                      132  "
      ]
     },
     "execution_count": 22,
     "metadata": {},
     "output_type": "execute_result"
    }
   ],
   "source": [
    "regions = ['North East', 'North West', 'Yorkshire & Humber', 'East Midlands', 'West Midlands', 'East of England', 'London', 'South East', 'South West']\n",
    "people = pd.DataFrame({\n",
    "                        'Regions' : regions,\n",
    "                        'Children (0-11)' : agesC,\n",
    "                        'Teenagers (12-19)' : agesT,\n",
    "                        'Young Adults (20-30)' : agesY,\n",
    "                        'Adults (31-59)' : agesA,\n",
    "                        'Elderly People (60-100)' : agesO\n",
    "                        })\n",
    "people"
   ]
  },
  {
   "cell_type": "markdown",
   "metadata": {},
   "source": [
    "So now that we have all the data we need about all regions, we can easily make a pie chart describing the percentages of different age groups in London and the Yorkshire and the Humber region..\n",
    "\n",
    "However we find out that we can't make a pie chart of what we want since all regions are row indices of the dataframe and the age groups are column indices, as the pie chart takes a y axis argument, we can't give a region. A way to tackle this issue is transpoing our data frame."
   ]
  },
  {
   "cell_type": "code",
   "execution_count": 23,
   "metadata": {},
   "outputs": [
    {
     "data": {
      "text/html": [
       "<div>\n",
       "<style scoped>\n",
       "    .dataframe tbody tr th:only-of-type {\n",
       "        vertical-align: middle;\n",
       "    }\n",
       "\n",
       "    .dataframe tbody tr th {\n",
       "        vertical-align: top;\n",
       "    }\n",
       "\n",
       "    .dataframe thead th {\n",
       "        text-align: right;\n",
       "    }\n",
       "</style>\n",
       "<table border=\"1\" class=\"dataframe\">\n",
       "  <thead>\n",
       "    <tr style=\"text-align: right;\">\n",
       "      <th></th>\n",
       "      <th>0</th>\n",
       "      <th>1</th>\n",
       "      <th>2</th>\n",
       "      <th>3</th>\n",
       "      <th>4</th>\n",
       "      <th>5</th>\n",
       "      <th>6</th>\n",
       "      <th>7</th>\n",
       "      <th>8</th>\n",
       "    </tr>\n",
       "  </thead>\n",
       "  <tbody>\n",
       "    <tr>\n",
       "      <th>Regions</th>\n",
       "      <td>North East</td>\n",
       "      <td>North West</td>\n",
       "      <td>Yorkshire &amp; Humber</td>\n",
       "      <td>East Midlands</td>\n",
       "      <td>West Midlands</td>\n",
       "      <td>East of England</td>\n",
       "      <td>London</td>\n",
       "      <td>South East</td>\n",
       "      <td>South West</td>\n",
       "    </tr>\n",
       "    <tr>\n",
       "      <th>Children (0-11)</th>\n",
       "      <td>57</td>\n",
       "      <td>69</td>\n",
       "      <td>58</td>\n",
       "      <td>72</td>\n",
       "      <td>65</td>\n",
       "      <td>63</td>\n",
       "      <td>88</td>\n",
       "      <td>71</td>\n",
       "      <td>55</td>\n",
       "    </tr>\n",
       "    <tr>\n",
       "      <th>Teenagers (12-19)</th>\n",
       "      <td>47</td>\n",
       "      <td>64</td>\n",
       "      <td>60</td>\n",
       "      <td>63</td>\n",
       "      <td>57</td>\n",
       "      <td>46</td>\n",
       "      <td>53</td>\n",
       "      <td>33</td>\n",
       "      <td>46</td>\n",
       "    </tr>\n",
       "    <tr>\n",
       "      <th>Young Adults (20-30)</th>\n",
       "      <td>78</td>\n",
       "      <td>58</td>\n",
       "      <td>90</td>\n",
       "      <td>74</td>\n",
       "      <td>62</td>\n",
       "      <td>63</td>\n",
       "      <td>90</td>\n",
       "      <td>74</td>\n",
       "      <td>67</td>\n",
       "    </tr>\n",
       "    <tr>\n",
       "      <th>Adults (31-59)</th>\n",
       "      <td>196</td>\n",
       "      <td>197</td>\n",
       "      <td>192</td>\n",
       "      <td>171</td>\n",
       "      <td>198</td>\n",
       "      <td>190</td>\n",
       "      <td>189</td>\n",
       "      <td>195</td>\n",
       "      <td>200</td>\n",
       "    </tr>\n",
       "    <tr>\n",
       "      <th>Elderly People (60-100)</th>\n",
       "      <td>122</td>\n",
       "      <td>112</td>\n",
       "      <td>100</td>\n",
       "      <td>120</td>\n",
       "      <td>118</td>\n",
       "      <td>138</td>\n",
       "      <td>80</td>\n",
       "      <td>127</td>\n",
       "      <td>132</td>\n",
       "    </tr>\n",
       "  </tbody>\n",
       "</table>\n",
       "</div>"
      ],
      "text/plain": [
       "                                  0           1                   2  \\\n",
       "Regions                  North East  North West  Yorkshire & Humber   \n",
       "Children (0-11)                  57          69                  58   \n",
       "Teenagers (12-19)                47          64                  60   \n",
       "Young Adults (20-30)             78          58                  90   \n",
       "Adults (31-59)                  196         197                 192   \n",
       "Elderly People (60-100)         122         112                 100   \n",
       "\n",
       "                                     3              4                5  \\\n",
       "Regions                  East Midlands  West Midlands  East of England   \n",
       "Children (0-11)                     72             65               63   \n",
       "Teenagers (12-19)                   63             57               46   \n",
       "Young Adults (20-30)                74             62               63   \n",
       "Adults (31-59)                     171            198              190   \n",
       "Elderly People (60-100)            120            118              138   \n",
       "\n",
       "                              6           7           8  \n",
       "Regions                  London  South East  South West  \n",
       "Children (0-11)              88          71          55  \n",
       "Teenagers (12-19)            53          33          46  \n",
       "Young Adults (20-30)         90          74          67  \n",
       "Adults (31-59)              189         195         200  \n",
       "Elderly People (60-100)      80         127         132  "
      ]
     },
     "execution_count": 23,
     "metadata": {},
     "output_type": "execute_result"
    }
   ],
   "source": [
    "peopleT = people.T\n",
    "peopleT"
   ]
  },
  {
   "cell_type": "markdown",
   "metadata": {},
   "source": [
    "Now a new problem has appeared, our column indices are the integers which numbered the regions when they were row indices, that wasn't a problem before, but now we can't intuitively specify a region name and get a corresponding pie chart, so we must make our top row the new column index."
   ]
  },
  {
   "cell_type": "code",
   "execution_count": 24,
   "metadata": {
    "scrolled": true
   },
   "outputs": [
    {
     "data": {
      "text/html": [
       "<div>\n",
       "<style scoped>\n",
       "    .dataframe tbody tr th:only-of-type {\n",
       "        vertical-align: middle;\n",
       "    }\n",
       "\n",
       "    .dataframe tbody tr th {\n",
       "        vertical-align: top;\n",
       "    }\n",
       "\n",
       "    .dataframe thead th {\n",
       "        text-align: right;\n",
       "    }\n",
       "</style>\n",
       "<table border=\"1\" class=\"dataframe\">\n",
       "  <thead>\n",
       "    <tr style=\"text-align: right;\">\n",
       "      <th>Regions</th>\n",
       "      <th>North East</th>\n",
       "      <th>North West</th>\n",
       "      <th>Yorkshire &amp; Humber</th>\n",
       "      <th>East Midlands</th>\n",
       "      <th>West Midlands</th>\n",
       "      <th>East of England</th>\n",
       "      <th>London</th>\n",
       "      <th>South East</th>\n",
       "      <th>South West</th>\n",
       "    </tr>\n",
       "  </thead>\n",
       "  <tbody>\n",
       "    <tr>\n",
       "      <th>Children (0-11)</th>\n",
       "      <td>57</td>\n",
       "      <td>69</td>\n",
       "      <td>58</td>\n",
       "      <td>72</td>\n",
       "      <td>65</td>\n",
       "      <td>63</td>\n",
       "      <td>88</td>\n",
       "      <td>71</td>\n",
       "      <td>55</td>\n",
       "    </tr>\n",
       "    <tr>\n",
       "      <th>Teenagers (12-19)</th>\n",
       "      <td>47</td>\n",
       "      <td>64</td>\n",
       "      <td>60</td>\n",
       "      <td>63</td>\n",
       "      <td>57</td>\n",
       "      <td>46</td>\n",
       "      <td>53</td>\n",
       "      <td>33</td>\n",
       "      <td>46</td>\n",
       "    </tr>\n",
       "    <tr>\n",
       "      <th>Young Adults (20-30)</th>\n",
       "      <td>78</td>\n",
       "      <td>58</td>\n",
       "      <td>90</td>\n",
       "      <td>74</td>\n",
       "      <td>62</td>\n",
       "      <td>63</td>\n",
       "      <td>90</td>\n",
       "      <td>74</td>\n",
       "      <td>67</td>\n",
       "    </tr>\n",
       "    <tr>\n",
       "      <th>Adults (31-59)</th>\n",
       "      <td>196</td>\n",
       "      <td>197</td>\n",
       "      <td>192</td>\n",
       "      <td>171</td>\n",
       "      <td>198</td>\n",
       "      <td>190</td>\n",
       "      <td>189</td>\n",
       "      <td>195</td>\n",
       "      <td>200</td>\n",
       "    </tr>\n",
       "    <tr>\n",
       "      <th>Elderly People (60-100)</th>\n",
       "      <td>122</td>\n",
       "      <td>112</td>\n",
       "      <td>100</td>\n",
       "      <td>120</td>\n",
       "      <td>118</td>\n",
       "      <td>138</td>\n",
       "      <td>80</td>\n",
       "      <td>127</td>\n",
       "      <td>132</td>\n",
       "    </tr>\n",
       "  </tbody>\n",
       "</table>\n",
       "</div>"
      ],
      "text/plain": [
       "Regions                 North East North West Yorkshire & Humber  \\\n",
       "Children (0-11)                 57         69                 58   \n",
       "Teenagers (12-19)               47         64                 60   \n",
       "Young Adults (20-30)            78         58                 90   \n",
       "Adults (31-59)                 196        197                192   \n",
       "Elderly People (60-100)        122        112                100   \n",
       "\n",
       "Regions                 East Midlands West Midlands East of England London  \\\n",
       "Children (0-11)                    72            65              63     88   \n",
       "Teenagers (12-19)                  63            57              46     53   \n",
       "Young Adults (20-30)               74            62              63     90   \n",
       "Adults (31-59)                    171           198             190    189   \n",
       "Elderly People (60-100)           120           118             138     80   \n",
       "\n",
       "Regions                 South East South West  \n",
       "Children (0-11)                 71         55  \n",
       "Teenagers (12-19)               33         46  \n",
       "Young Adults (20-30)            74         67  \n",
       "Adults (31-59)                 195        200  \n",
       "Elderly People (60-100)        127        132  "
      ]
     },
     "execution_count": 24,
     "metadata": {},
     "output_type": "execute_result"
    }
   ],
   "source": [
    "new_header = peopleT.iloc[0]\n",
    "peopleT = peopleT[1:]\n",
    "peopleT.columns = new_header\n",
    "peopleT"
   ]
  },
  {
   "cell_type": "markdown",
   "metadata": {},
   "source": [
    "Now that we've fixed this issue, all we have to do is create a pie chart and compare the two regions."
   ]
  },
  {
   "cell_type": "code",
   "execution_count": 25,
   "metadata": {},
   "outputs": [
    {
     "data": {
      "image/png": "[encoded data removed]",
      "text/plain": [
       "<Figure size 1296x432 with 2 Axes>"
      ]
     },
     "metadata": {},
     "output_type": "display_data"
    }
   ],
   "source": [
    "pieChart = peopleT.plot.pie(y=['London', 'Yorkshire & Humber'], figsize=(18, 6), rot = 0, fontsize = 13, subplots = True, autopct=\"%.2f\", legend=None)"
   ]
  },
  {
   "cell_type": "markdown",
   "metadata": {},
   "source": [
    "Even though there's a bit more children in London, we notice that there are much more elderly people, teenagers and adults in the Yorkshire and The Humber region. From this we get the vague idea that the average age for London is lower than that of the Yorkshire and The Humber region.\n",
    "\n",
    "We can't tell however if our young adult statistic can be believed - it does tell us that young adults (20-30) make up about 18% of each region respectively and since both of those pie charts divide 500 people into 5 gorups, we can safely say that if their percentages are the same, then their count is the same - even though we already knew that from our bar plot.\n",
    "\n",
    "Then the point we have to pay attention to is the distribution of the other age groups - it would be a logical fallacy to conclude that both of these regions have the same average age just because they match counts in a certain age group, we need to test this."
   ]
  },
  {
   "cell_type": "markdown",
   "metadata": {},
   "source": [
    "Before we begin our test we must see the probaility denisty of both the London and Yorkshite and the Humber, if they have a normal probability density then we can use a classical statistical method.\n",
    "\n",
    "Firstly we need lists of their ages. We will be using these distributions for the test, so now we must use the 'sample_test' data frame - we are finished with exploring."
   ]
  },
  {
   "cell_type": "code",
   "execution_count": 39,
   "metadata": {},
   "outputs": [],
   "source": [
    "YHages = sample_test['Yorkshire and The Humber'].tolist()\n",
    "Lages = sample_test['London'].tolist()"
   ]
  },
  {
   "cell_type": "markdown",
   "metadata": {},
   "source": [
    "Now, we must make them in series and see the distributions, we can just use the plot,kde() method for a quick density plot."
   ]
  },
  {
   "cell_type": "code",
   "execution_count": 40,
   "metadata": {},
   "outputs": [
    {
     "data": {
      "text/plain": [
       "<matplotlib.axes._subplots.AxesSubplot at 0x7f5805058970>"
      ]
     },
     "execution_count": 40,
     "metadata": {},
     "output_type": "execute_result"
    },
    {
     "data": {
      "image/png": "[encoded data removed]",
      "text/plain": [
       "<Figure size 1440x720 with 1 Axes>"
      ]
     },
     "metadata": {
      "needs_background": "light"
     },
     "output_type": "display_data"
    }
   ],
   "source": [
    "londonSeries = pd.Series(Lages)\n",
    "fig, ax = plt.subplots(figsize=(20, 10))\n",
    "ax = londonSeries.plot.kde()\n",
    "ax.axvline(sample_test['London'].mean(), color='orange', linestyle='-')\n",
    "ax.axvline(sample_test['London'].max(), color='red', linestyle='-')\n",
    "ax.axvline(sample_test['London'].min(), color='red', linestyle='-')\n",
    "ax"
   ]
  },
  {
   "cell_type": "markdown",
   "metadata": {},
   "source": [
    "This is the probability distribution for the London area, as we see it's skewed."
   ]
  },
  {
   "cell_type": "code",
   "execution_count": 41,
   "metadata": {},
   "outputs": [
    {
     "data": {
      "text/plain": [
       "<matplotlib.axes._subplots.AxesSubplot at 0x7f580501a6a0>"
      ]
     },
     "execution_count": 41,
     "metadata": {},
     "output_type": "execute_result"
    },
    {
     "data": {
      "image/png": "[encoded data removed]",
      "text/plain": [
       "<Figure size 1440x720 with 1 Axes>"
      ]
     },
     "metadata": {
      "needs_background": "light"
     },
     "output_type": "display_data"
    }
   ],
   "source": [
    "yorkshireSeries = pd.Series(YHages)\n",
    "fig, yh = plt.subplots(figsize=(20, 10))\n",
    "yh = yorkshireSeries.plot.kde()\n",
    "yh.axvline(sample_test['Yorkshire and The Humber'].mean(), color='orange', linestyle='-')\n",
    "yh.axvline(sample_test['Yorkshire and The Humber'].max(), color='red', linestyle='-')\n",
    "yh.axvline(sample_test['Yorkshire and The Humber'].min(), color='red', linestyle='-')\n",
    "yh"
   ]
  },
  {
   "cell_type": "markdown",
   "metadata": {},
   "source": [
    "This is the probability distribution for the Yorkshire and the Humber area, as we see it's skewed.\n",
    "\n",
    "For reference, the red lines represent the maximum and minimum values of the distributions and the orange one - the mean.\n",
    "\n",
    "As we can see both distributiona are a bit skewed to the left and does exhibit occasional dips, but it is surpisingly normal for data from the real world. This all means that our z-test can be somewhat inaccurate, since it isn't a perfect normal distribution. We can however make this better by bootstrap sampling.\n",
    "\n",
    "If we were to use bootstrap sampling we would ensure a much more normal distribution."
   ]
  },
  {
   "cell_type": "markdown",
   "metadata": {},
   "source": [
    "## Comparing average age in London and Yorkshire"
   ]
  },
  {
   "cell_type": "markdown",
   "metadata": {},
   "source": [
    "I want to find out whether the average age in London is lower than the one in the Yorkshire and the Humber region. \n",
    "\n",
    "My null hypothesis is that on average people in London and Yorkshire and the Humber region have the same age. \n",
    "\n",
    "My alternative hypothesis is that on average, people are older in Yorkshire and the Humber region, rather than in London.\n",
    "\n",
    "My probability level is 95% so my alpha value becomes 0.05 and I will be doing a right-tailed z-test to prove my hypothesis.\n",
    "\n",
    "Before my test however I will use bootstrap sampling to ensure the normality of my distributions, because I want my z-test to be as accurate as possible. So I will first introduce the bootstraping algorithm first."
   ]
  },
  {
   "cell_type": "code",
   "execution_count": 42,
   "metadata": {},
   "outputs": [],
   "source": [
    "def sample_w_replace(data,L=None):\n",
    "    if L is None:\n",
    "        L=len(data)\n",
    "    return np.random.choice(data,L,replace=True)\n",
    "\n",
    "def Bootstrap_means(data,NTrials=1000):\n",
    "    BSmeans=np.zeros(NTrials)\n",
    "    for trial in range(NTrials):\n",
    "        BSmeans[trial]=np.mean(sample_w_replace(data))\n",
    "    return BSmeans"
   ]
  },
  {
   "cell_type": "markdown",
   "metadata": {},
   "source": [
    "With these functions I can much more easily do bootstraping. The 'Bootstrap_mean' function gets the mean of the created samples, this way I can get a data frame a much more normalised distribution."
   ]
  },
  {
   "cell_type": "code",
   "execution_count": 43,
   "metadata": {},
   "outputs": [
    {
     "data": {
      "text/plain": [
       "<matplotlib.axes._subplots.AxesSubplot at 0x7f5804fa8700>"
      ]
     },
     "execution_count": 43,
     "metadata": {},
     "output_type": "execute_result"
    },
    {
     "data": {
      "image/png": "[encoded data removed]",
      "text/plain": [
       "<Figure size 1440x720 with 1 Axes>"
      ]
     },
     "metadata": {
      "needs_background": "light"
     },
     "output_type": "display_data"
    }
   ],
   "source": [
    "newData = Bootstrap_means(londonSeries)\n",
    "newList = newData.tolist()\n",
    "londonDF = pd.DataFrame({\n",
    "                        'London' : newList\n",
    "                        })\n",
    "londonSeries = pd.Series(newList)\n",
    "fig, ax = plt.subplots(figsize=(20, 10))\n",
    "ax = londonSeries.plot.kde()\n",
    "ax.axvline(londonDF['London'].mean(), color='orange', linestyle='-')\n",
    "ax.axvline(londonDF['London'].max(), color='red', linestyle='-')\n",
    "ax.axvline(londonDF['London'].min(), color='red', linestyle='-')\n",
    "ax"
   ]
  },
  {
   "cell_type": "markdown",
   "metadata": {},
   "source": [
    "This is the new distribution for London! As we can see it much bettwe now resembles a normal distribution - we do notice that we have a bell shape present but the top part seems to be leaning a bit to the right, the reason is simple - this is a drawback from the bootstrap sampling.\n",
    "\n",
    "We don't use new data with these technique, so in a way, that odd lean to the right is just the watered down version of the first non-normal distribution."
   ]
  },
  {
   "cell_type": "code",
   "execution_count": 44,
   "metadata": {},
   "outputs": [
    {
     "data": {
      "text/plain": [
       "<matplotlib.axes._subplots.AxesSubplot at 0x7f5804f7b370>"
      ]
     },
     "execution_count": 44,
     "metadata": {},
     "output_type": "execute_result"
    },
    {
     "data": {
      "image/png": "[encoded data removed]",
      "text/plain": [
       "<Figure size 1440x720 with 1 Axes>"
      ]
     },
     "metadata": {
      "needs_background": "light"
     },
     "output_type": "display_data"
    }
   ],
   "source": [
    "newData = Bootstrap_means(yorkshireSeries)\n",
    "newList = newData.tolist()\n",
    "yorkshireDF = pd.DataFrame({\n",
    "                        'Yorkshire' : newList\n",
    "                        })\n",
    "yorkshireSeries = pd.Series(newList)\n",
    "fig, ax = plt.subplots(figsize=(20, 10))\n",
    "ax = yorkshireSeries.plot.kde()\n",
    "ax.axvline(yorkshireDF['Yorkshire'].mean(), color='orange', linestyle='-')\n",
    "ax.axvline(yorkshireDF['Yorkshire'].max(), color='red', linestyle='-')\n",
    "ax.axvline(yorkshireDF['Yorkshire'].min(), color='red', linestyle='-')\n",
    "ax"
   ]
  },
  {
   "cell_type": "markdown",
   "metadata": {},
   "source": [
    "And this is the distribution for the Yourshire and The Humber Region - same things said about London apply here."
   ]
  },
  {
   "cell_type": "markdown",
   "metadata": {},
   "source": [
    "As we can see the distribution has imrpoved dramatically! The bumps have virtually disappeared and it is much more centered. Achieving a pure normal distribution with real life data is essentially impossible, so this level of precision should ensure an accurate result from a Z-test."
   ]
  },
  {
   "cell_type": "code",
   "execution_count": 45,
   "metadata": {},
   "outputs": [],
   "source": [
    "londonS = londonDF['London']\n",
    "yorkshireS = yorkshireDF['Yorkshire']"
   ]
  },
  {
   "cell_type": "markdown",
   "metadata": {},
   "source": [
    "Before the beginning of the test I transfer the data into lists for simplicity."
   ]
  },
  {
   "cell_type": "markdown",
   "metadata": {},
   "source": [
    "## Statistical test of the hypothesis"
   ]
  },
  {
   "cell_type": "markdown",
   "metadata": {},
   "source": [
    "We need to get the critical value, thankfully, we can just use the .ppf method to do so. We input out alpha value and we subtract one since this is a right-tail test."
   ]
  },
  {
   "cell_type": "code",
   "execution_count": 46,
   "metadata": {},
   "outputs": [],
   "source": [
    "critical = stats.norm.ppf(1 - 0.05)"
   ]
  },
  {
   "cell_type": "markdown",
   "metadata": {},
   "source": [
    "Now we need to calculate the test statistic. For it we need the difference between the two means and divide by the combined standard errors. Let's first get the mean difference."
   ]
  },
  {
   "cell_type": "code",
   "execution_count": 47,
   "metadata": {},
   "outputs": [],
   "source": [
    "diffMeans = yorkshireS.mean() - londonS.mean()"
   ]
  },
  {
   "cell_type": "markdown",
   "metadata": {},
   "source": [
    "Now we can get the standard errors, I will calculate them by first finding out the variance and then dividing by the sample size."
   ]
  },
  {
   "cell_type": "code",
   "execution_count": 48,
   "metadata": {},
   "outputs": [],
   "source": [
    "varYH = yorkshireS.var()\n",
    "varL = londonS.var()\n",
    "londonList = londonS.tolist()\n",
    "yorkshireList = yorkshireS.tolist()\n",
    "combinedSEM = np.sqrt(varL/len(londonList) + varYH/len(yorkshireList))"
   ]
  },
  {
   "cell_type": "markdown",
   "metadata": {},
   "source": [
    "Now we can finally find out our Z-statistic! All we have to do is divide the mean difference by the combined standard error."
   ]
  },
  {
   "cell_type": "code",
   "execution_count": 49,
   "metadata": {},
   "outputs": [],
   "source": [
    "zStatistics = diffMeans/combinedSEM"
   ]
  },
  {
   "cell_type": "markdown",
   "metadata": {},
   "source": [
    "Having found out both the Z-statistic and the critical value, all that is left is to compare them, this is a right-tail test, so if the Z-statistic is bigger than the critical value, then we reject the null hypothesis."
   ]
  },
  {
   "cell_type": "code",
   "execution_count": 52,
   "metadata": {},
   "outputs": [
    {
     "name": "stdout",
     "output_type": "stream",
     "text": [
      "Null hypothesis rejected.\n"
     ]
    }
   ],
   "source": [
    "if(zStatistics > critical):\n",
    "    print(\"Null hypothesis rejected.\")\n",
    "else:\n",
    "    print(\"Null hypothesis cannot be rejected.\")"
   ]
  },
  {
   "cell_type": "markdown",
   "metadata": {},
   "source": [
    "## Conclusions"
   ]
  },
  {
   "cell_type": "markdown",
   "metadata": {},
   "source": [
    "Using the method of the right-tailed z-test, I found that the null hypothesis which states that on average people in London and Yorkshire and the Humber region have the same age is ruled out at 95% percent level. So then we can say with 95% confidence that the average person in London is younger than the average person from the Yorkshire and The Humber region."
   ]
  }
 ],
 "metadata": {
  "kernelspec": {
   "display_name": "Python 3",
   "language": "python",
   "name": "python3"
  },
  "language_info": {
   "codemirror_mode": {
    "name": "ipython",
    "version": 3
   },
   "file_extension": ".py",
   "mimetype": "text/x-python",
   "name": "python",
   "nbconvert_exporter": "python",
   "pygments_lexer": "ipython3",
   "version": "3.8.5"
  }
 },
 "nbformat": 4,
 "nbformat_minor": 4
}
